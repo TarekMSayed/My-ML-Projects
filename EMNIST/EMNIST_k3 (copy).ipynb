{
 "cells": [
  {
   "cell_type": "code",
   "execution_count": 14,
   "metadata": {
    "_cell_guid": "79c7e3d0-c299-4dcb-8224-4455121ee9b0",
    "_uuid": "d629ff2d2480ee46fbb7e2d37f6b5fab8052498a"
   },
   "outputs": [],
   "source": [
    "import numpy as np\n",
    "import pandas as pd\n",
    "import matplotlib.pyplot as plt\n",
    "from sklearn.preprocessing import normalize\n",
    "%matplotlib inline"
   ]
  },
  {
   "cell_type": "code",
   "execution_count": 7,
   "metadata": {
    "_uuid": "71c3835570aa77bdcd6b1c1e5ea9821cf55c177f"
   },
   "outputs": [
    {
     "name": "stdout",
     "output_type": "stream",
     "text": [
      "[ 48  49  50  51  52  53  54  55  56  57  65  66  67  68  69  70  71  72\n",
      "  73  74  75  76  77  78  79  80  81  82  83  84  85  86  87  88  89  90\n",
      "  97  98 100 101 102 103 104 110 113 114 116]\n"
     ]
    }
   ],
   "source": [
    "mapping = np.loadtxt('emnist-bymerge-mapping.txt',dtype=int, usecols=(1), unpack=True)\n",
    "print(mapping)"
   ]
  },
  {
   "cell_type": "code",
   "execution_count": 8,
   "metadata": {
    "_uuid": "2437a8f77cf36dbd3828fb90231119eaa7e73ce2"
   },
   "outputs": [
    {
     "name": "stdout",
     "output_type": "stream",
     "text": [
      "{0: '0', 1: '1', 2: '2', 3: '3', 4: '4', 5: '5', 6: '6', 7: '7', 8: '8', 9: '9', 10: 'A', 11: 'B', 12: 'C', 13: 'D', 14: 'E', 15: 'F', 16: 'G', 17: 'H', 18: 'I', 19: 'J', 20: 'K', 21: 'L', 22: 'M', 23: 'N', 24: 'O', 25: 'P', 26: 'Q', 27: 'R', 28: 'S', 29: 'T', 30: 'U', 31: 'V', 32: 'W', 33: 'X', 34: 'Y', 35: 'Z', 36: 'a', 37: 'b', 38: 'd', 39: 'e', 40: 'f', 41: 'g', 42: 'h', 43: 'n', 44: 'q', 45: 'r', 46: 't'}\n"
     ]
    }
   ],
   "source": [
    "char_labels={}\n",
    "for i in range(47):\n",
    "    char_labels[i] = chr(mapping[i])\n",
    "print(char_labels)"
   ]
  },
  {
   "cell_type": "markdown",
   "metadata": {
    "_uuid": "92dae87b7cdb9684783fd226b0ef3b5bb925ab8f"
   },
   "source": [
    "# CNN Model"
   ]
  },
  {
   "cell_type": "markdown",
   "metadata": {
    "_uuid": "79b34a05352d674ca295deeb818847e33688c3fd",
    "collapsed": true
   },
   "source": [
    "## Define the Model Architecture"
   ]
  },
  {
   "cell_type": "code",
   "execution_count": 9,
   "metadata": {
    "_uuid": "809086d50b8a8cc95551d9cb52b9e9bd25f63718"
   },
   "outputs": [
    {
     "name": "stderr",
     "output_type": "stream",
     "text": [
      "/usr/local/lib/python3.5/dist-packages/h5py/__init__.py:36: FutureWarning: Conversion of the second argument of issubdtype from `float` to `np.floating` is deprecated. In future, it will be treated as `np.float64 == np.dtype(float).type`.\n",
      "  from ._conv import register_converters as _register_converters\n",
      "Using TensorFlow backend.\n"
     ]
    },
    {
     "name": "stdout",
     "output_type": "stream",
     "text": [
      "_________________________________________________________________\n",
      "Layer (type)                 Output Shape              Param #   \n",
      "=================================================================\n",
      "conv2d_1 (Conv2D)            (None, 26, 26, 64)        640       \n",
      "_________________________________________________________________\n",
      "max_pooling2d_1 (MaxPooling2 (None, 13, 13, 64)        0         \n",
      "_________________________________________________________________\n",
      "dropout_1 (Dropout)          (None, 13, 13, 64)        0         \n",
      "_________________________________________________________________\n",
      "conv2d_2 (Conv2D)            (None, 11, 11, 32)        18464     \n",
      "_________________________________________________________________\n",
      "max_pooling2d_2 (MaxPooling2 (None, 5, 5, 32)          0         \n",
      "_________________________________________________________________\n",
      "flatten_1 (Flatten)          (None, 800)               0         \n",
      "_________________________________________________________________\n",
      "dense_1 (Dense)              (None, 128)               102528    \n",
      "_________________________________________________________________\n",
      "dropout_2 (Dropout)          (None, 128)               0         \n",
      "_________________________________________________________________\n",
      "batch_normalization_1 (Batch (None, 128)               512       \n",
      "_________________________________________________________________\n",
      "dense_2 (Dense)              (None, 64)                8256      \n",
      "_________________________________________________________________\n",
      "dropout_3 (Dropout)          (None, 64)                0         \n",
      "_________________________________________________________________\n",
      "dense_3 (Dense)              (None, 47)                3055      \n",
      "=================================================================\n",
      "Total params: 133,455\n",
      "Trainable params: 133,199\n",
      "Non-trainable params: 256\n",
      "_________________________________________________________________\n"
     ]
    }
   ],
   "source": [
    "from keras.models import Sequential\n",
    "from keras.layers import Dense, Dropout, Flatten\n",
    "from keras.layers import BatchNormalization\n",
    "from keras.layers import Conv2D, MaxPooling2D\n",
    "\n",
    "# define the model\n",
    "cnn_model = Sequential()\n",
    "cnn_model.add(Conv2D(filters=64, kernel_size=3, padding='valid', activation='relu', input_shape=(28, 28, 1)))\n",
    "cnn_model.add(MaxPooling2D(pool_size=2))\n",
    "#cnn_model.add(BatchNormalization())\n",
    "cnn_model.add(Dropout(0.3))\n",
    "cnn_model.add(Conv2D(filters=32, kernel_size=3, padding='valid', activation='relu',))\n",
    "cnn_model.add(MaxPooling2D(pool_size=2))\n",
    "#cnn_model.add(BatchNormalization())\n",
    "#cnn_model.add(Dropout(0.3))\n",
    "cnn_model.add(Flatten())\n",
    "cnn_model.add(Dense(128, activation='relu'))\n",
    "cnn_model.add(Dropout(0.2))\n",
    "cnn_model.add(BatchNormalization())\n",
    "cnn_model.add(Dense(64, activation='relu'))\n",
    "cnn_model.add(Dropout(0.2))\n",
    "cnn_model.add(Dense(47, activation='softmax'))\n",
    "\n",
    "# summarize the model\n",
    "cnn_model.summary()"
   ]
  },
  {
   "cell_type": "markdown",
   "metadata": {
    "_uuid": "2f1af42a62d6bcf2076264ae03f9b087f7d5da0b"
   },
   "source": [
    "## Compile the Model"
   ]
  },
  {
   "cell_type": "code",
   "execution_count": 10,
   "metadata": {
    "_uuid": "c9365101820ef8a94259b0aa7b009f0c9034bb83"
   },
   "outputs": [],
   "source": [
    "# compile the model\n",
    "cnn_model.compile(loss='categorical_crossentropy', optimizer='Nadam', metrics=['accuracy'])"
   ]
  },
  {
   "cell_type": "code",
   "execution_count": 11,
   "metadata": {
    "_uuid": "f957e2cb60121316415c007293b449ac3ab795c7"
   },
   "outputs": [],
   "source": [
    "# load the weights that yielded the best validation accuracy\n",
    "cnn_model.load_weights('EMNIST_CNN.cnn_model.best.hdf5')"
   ]
  },
  {
   "cell_type": "markdown",
   "metadata": {
    "_uuid": "d5b84b034142832a730da3ad6be4835c79ba04bf",
    "collapsed": true
   },
   "source": [
    "## On images from my computer"
   ]
  },
  {
   "cell_type": "code",
   "execution_count": 35,
   "metadata": {},
   "outputs": [],
   "source": [
    "def predict(path):\n",
    "    img = cv2.imread(path)\n",
    "    # convert image to gray\n",
    "    gray = cv2.cvtColor(img, cv2.COLOR_BGR2GRAY)\n",
    "    # Uncomment if images are ideal\n",
    "    #gray = np.fliplr(gray)\n",
    "    #gray = np.rot90(gray)\n",
    "    # show image\n",
    "    plt.imshow(gray.squeeze().T, cmap='gray')\n",
    "    plt.show()\n",
    "    # Preprocessing\n",
    "    gray = normalize(gray / 255.0).reshape(-1, 28, 28, 1)\n",
    "    # predict image label\n",
    "    pred_matrix = cnn_model.predict(gray)\n",
    "    pred = np.argmax(pred_matrix)\n",
    "    #print(pred)\n",
    "    #print(pred_matrix)\n",
    "    # Show the results\n",
    "    print (\"This image predicted as letter \",char_labels[pred])\n",
    "    # Check if predicted label equal to the True label (extacted from image name in it's path)\n",
    "    if pred == int(re.search(r\"[0-9]+\", path).group()):\n",
    "        print(\"And that is right\")\n",
    "    else:\n",
    "        print(\"But sorry that is wrong\")"
   ]
  },
  {
   "cell_type": "code",
   "execution_count": 40,
   "metadata": {},
   "outputs": [
    {
     "data": {
      "image/png": "[encoded data removed]",
      "text/plain": [
       "<matplotlib.figure.Figure at 0x7f776a920be0>"
      ]
     },
     "metadata": {},
     "output_type": "display_data"
    },
    {
     "name": "stdout",
     "output_type": "stream",
     "text": [
      "This image predicted as letter  O\n",
      "But sorry that is wrong\n"
     ]
    },
    {
     "data": {
      "image/png": "[encoded data removed]",
      "text/plain": [
       "<matplotlib.figure.Figure at 0x7f776abba080>"
      ]
     },
     "metadata": {},
     "output_type": "display_data"
    },
    {
     "name": "stdout",
     "output_type": "stream",
     "text": [
      "This image predicted as letter  4\n",
      "And that is right\n"
     ]
    },
    {
     "data": {
      "image/png": "[encoded data removed]",
      "text/plain": [
       "<matplotlib.figure.Figure at 0x7f776aba72e8>"
      ]
     },
     "metadata": {},
     "output_type": "display_data"
    },
    {
     "name": "stdout",
     "output_type": "stream",
     "text": [
      "This image predicted as letter  5\n",
      "And that is right\n"
     ]
    },
    {
     "data": {
      "image/png": "[encoded data removed]",
      "text/plain": [
       "<matplotlib.figure.Figure at 0x7f776a9d6d30>"
      ]
     },
     "metadata": {},
     "output_type": "display_data"
    },
    {
     "name": "stdout",
     "output_type": "stream",
     "text": [
      "This image predicted as letter  I\n",
      "But sorry that is wrong\n"
     ]
    },
    {
     "data": {
      "image/png": "[encoded data removed]",
      "text/plain": [
       "<matplotlib.figure.Figure at 0x7f776a9cd518>"
      ]
     },
     "metadata": {},
     "output_type": "display_data"
    },
    {
     "name": "stdout",
     "output_type": "stream",
     "text": [
      "This image predicted as letter  e\n",
      "But sorry that is wrong\n"
     ]
    },
    {
     "data": {
      "image/png": "[encoded data removed]",
      "text/plain": [
       "<matplotlib.figure.Figure at 0x7f776ab5ab38>"
      ]
     },
     "metadata": {},
     "output_type": "display_data"
    },
    {
     "name": "stdout",
     "output_type": "stream",
     "text": [
      "This image predicted as letter  2\n",
      "And that is right\n"
     ]
    }
   ],
   "source": [
    "# load path for my images\n",
    "from glob import glob\n",
    "my_imgs = np.array(glob(\"my_img/*\"))\n",
    "import re\n",
    "import cv2\n",
    "for path in my_imgs:\n",
    "    #path = my_imgs[0]\n",
    "    predict(path)"
   ]
  },
  {
   "cell_type": "code",
   "execution_count": 39,
   "metadata": {},
   "outputs": [
    {
     "data": {
      "image/png": "[encoded data removed]",
      "text/plain": [
       "<matplotlib.figure.Figure at 0x7f776aa3ff28>"
      ]
     },
     "metadata": {},
     "output_type": "display_data"
    },
    {
     "name": "stdout",
     "output_type": "stream",
     "text": [
      "This image predicted as letter  e\n",
      "But sorry that is wrong\n"
     ]
    }
   ],
   "source": [
    "from tkinter import filedialog\n",
    "file_path = filedialog.askopenfilename()\n",
    "predict(file_path)"
   ]
  },
  {
   "cell_type": "code",
   "execution_count": 31,
   "metadata": {},
   "outputs": [],
   "source": [
    "file = open(\"testfile.txt\",\"w\") \n",
    " \n",
    "file.write(\"Hello World\" + \"\\n\") \n",
    "file.write(\"“This is our new text file” \\n\") \n",
    "file.write(\"“and this is another line.”\") \n",
    "file.write(\"“Why? Because we can.”\") \n",
    " \n",
    "file.close() "
   ]
  },
  {
   "cell_type": "code",
   "execution_count": null,
   "metadata": {},
   "outputs": [],
   "source": []
  }
 ],
 "metadata": {
  "kernelspec": {
   "display_name": "Python 3",
   "language": "python",
   "name": "python3"
  },
  "language_info": {
   "codemirror_mode": {
    "name": "ipython",
    "version": 3
   },
   "file_extension": ".py",
   "mimetype": "text/x-python",
   "name": "python",
   "nbconvert_exporter": "python",
   "pygments_lexer": "ipython3",
   "version": "3.5.2"
  }
 },
 "nbformat": 4,
 "nbformat_minor": 1
}
