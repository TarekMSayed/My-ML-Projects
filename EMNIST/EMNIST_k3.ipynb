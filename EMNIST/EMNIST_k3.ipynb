{
 "cells": [
  {
   "cell_type": "code",
   "execution_count": 1,
   "metadata": {
    "_cell_guid": "b1076dfc-b9ad-4769-8c92-a6c4dae69d19",
    "_uuid": "8f2839f25d086af736a60e9eeb907d3b93b6e0e5"
   },
   "outputs": [
    {
     "name": "stdout",
     "output_type": "stream",
     "text": [
      "['emnist-mnist-mapping.txt', 'emnist-digits-train.csv', 'emnist-letters-mapping.txt', 'emnist-balanced-mapping.txt', 'emnist-mnist-train.csv', 'emnist-letters-train.csv', 'emnist-bymerge-train.csv', 'emnist-bymerge-test.csv', 'emnist_source_files', 'emnist-balanced-train.csv', 'emnist-mnist-test.csv', 'emnist-bymerge-mapping.txt', 'emnist-digits-mapping.txt', 'emnist-byclass-mapping.txt', 'emnist-letters-test.csv', 'emnist-digits-test.csv', 'emnist-byclass-test.csv', 'emnist-byclass-train.csv', 'emnist-balanced-test.csv']\n"
     ]
    }
   ],
   "source": [
    "# This Python 3 environment comes with many helpful analytics libraries installed\n",
    "# It is defined by the kaggle/python docker image: https://github.com/kaggle/docker-python\n",
    "# For example, here's several helpful packages to load in \n",
    "\n",
    "import numpy as np # linear algebra\n",
    "import pandas as pd # data processing, CSV file I/O (e.g. pd.read_csv)\n",
    "\n",
    "# Input data files are available in the \"../input/\" directory.\n",
    "# For example, running this (by clicking run or pressing Shift+Enter) will list the files in the input directory\n",
    "\n",
    "import os\n",
    "print(os.listdir(\"../input\"))\n",
    "\n",
    "# Any results you write to the current directory are saved as output."
   ]
  },
  {
   "cell_type": "code",
   "execution_count": 2,
   "metadata": {
    "_cell_guid": "79c7e3d0-c299-4dcb-8224-4455121ee9b0",
    "_uuid": "d629ff2d2480ee46fbb7e2d37f6b5fab8052498a",
    "collapsed": true
   },
   "outputs": [],
   "source": [
    "import numpy as np\n",
    "import pandas as pd\n",
    "import matplotlib.pyplot as plt\n",
    "%matplotlib inline"
   ]
  },
  {
   "cell_type": "markdown",
   "metadata": {
    "_uuid": "d555b6f294e5cdd58ce6fed48e0b9dfa83507614"
   },
   "source": [
    "# Loading Data"
   ]
  },
  {
   "cell_type": "code",
   "execution_count": 3,
   "metadata": {
    "_uuid": "efe566626f8c0dda128457343d80a402e6ba2b3f",
    "collapsed": true
   },
   "outputs": [],
   "source": [
    "data_train = pd.read_csv(\"../input/emnist-bymerge-train.csv\", header=None)\n",
    "data_test = pd.read_csv(\"../input/emnist-bymerge-test.csv\", header=None)"
   ]
  },
  {
   "cell_type": "markdown",
   "metadata": {
    "_uuid": "8f53479f824154704df371a95fd8927fd2f1f9f3"
   },
   "source": [
    "# Data Exploration"
   ]
  },
  {
   "cell_type": "code",
   "execution_count": 4,
   "metadata": {
    "_uuid": "1fd0ef91a8fc61798d301735d23fae5ca9246a5d"
   },
   "outputs": [
    {
     "name": "stdout",
     "output_type": "stream",
     "text": [
      "(697932, 785)\n",
      "(116323, 785)\n"
     ]
    }
   ],
   "source": [
    "print(data_train.shape)\n",
    "print(data_test.shape)"
   ]
  },
  {
   "cell_type": "code",
   "execution_count": 5,
   "metadata": {
    "_uuid": "cb5e3047a6810eff262272d783812bf47f189f71"
   },
   "outputs": [
    {
     "name": "stdout",
     "output_type": "stream",
     "text": [
      "   0    1    2    3    4    5    6   ...   778  779  780  781  782  783  784\n",
      "0   24    0    0    0    0    0    0 ...     0    0    0    0    0    0    0\n",
      "1   36    0    0    0    0    0    0 ...     0    0    0    0    0    0    0\n",
      "2    5    0    0    0    0    0    0 ...     0    0    0    0    0    0    0\n",
      "3    6    0    0    0    0    0    0 ...     0    0    0    0    0    0    0\n",
      "4   35    0    0    0    0    0    0 ...     0    0    0    0    0    0    0\n",
      "\n",
      "[5 rows x 785 columns]\n"
     ]
    }
   ],
   "source": [
    "print(data_train.head())"
   ]
  },
  {
   "cell_type": "code",
   "execution_count": 6,
   "metadata": {
    "_uuid": "c46645eb12e4528b456ff04a3f2c65f4249cdd38"
   },
   "outputs": [
    {
     "name": "stderr",
     "output_type": "stream",
     "text": [
      "/opt/conda/lib/python3.6/site-packages/ipykernel_launcher.py:1: FutureWarning: Method .as_matrix will be removed in a future version. Use .values instead.\n",
      "  \"\"\"Entry point for launching an IPython kernel.\n",
      "/opt/conda/lib/python3.6/site-packages/ipykernel_launcher.py:3: FutureWarning: Method .as_matrix will be removed in a future version. Use .values instead.\n",
      "  This is separate from the ipykernel package so we can avoid doing imports until\n"
     ]
    }
   ],
   "source": [
    "x_train = data_train.loc[:,1:].as_matrix()\n",
    "y_train = np.array(data_train[0])\n",
    "x_test = data_test.loc[:,1:].as_matrix()\n",
    "y_test = np.array(data_test[0])"
   ]
  },
  {
   "cell_type": "code",
   "execution_count": 7,
   "metadata": {
    "_uuid": "1f8757fef66c2cfe87d95c8737c9de90fb286ef2"
   },
   "outputs": [
    {
     "name": "stdout",
     "output_type": "stream",
     "text": [
      "(697932, 784)\n",
      "(697932,)\n",
      "(116323, 784)\n",
      "(116323,)\n"
     ]
    }
   ],
   "source": [
    "print(x_train.shape)\n",
    "print(y_train.shape)\n",
    "print(x_test.shape)\n",
    "print(y_test.shape)"
   ]
  },
  {
   "cell_type": "code",
   "execution_count": 8,
   "metadata": {
    "_uuid": "05a01d9176c7de5caa62ce71d21b3bec3de33cab"
   },
   "outputs": [
    {
     "data": {
      "text/plain": [
       "499"
      ]
     },
     "execution_count": 8,
     "metadata": {},
     "output_type": "execute_result"
    }
   ],
   "source": [
    "import gc\n",
    "del [[data_train, data_test]]\n",
    "gc.collect()"
   ]
  },
  {
   "cell_type": "code",
   "execution_count": 9,
   "metadata": {
    "_uuid": "1072f8c615fcd1064cc8b21d29ba9b6e1c3997a2"
   },
   "outputs": [
    {
     "name": "stdout",
     "output_type": "stream",
     "text": [
      "max =  46 \t  min =  0\n"
     ]
    }
   ],
   "source": [
    "print('max = ', y_train.max(),\"\\t\",\" min = \", y_train.min())"
   ]
  },
  {
   "cell_type": "markdown",
   "metadata": {
    "_uuid": "4bb70f0bd83ca2cbba517a0128ec027966d052b5"
   },
   "source": [
    "# Exploratory Visualization"
   ]
  },
  {
   "cell_type": "code",
   "execution_count": 10,
   "metadata": {
    "_uuid": "71c3835570aa77bdcd6b1c1e5ea9821cf55c177f"
   },
   "outputs": [
    {
     "name": "stdout",
     "output_type": "stream",
     "text": [
      "[ 48  49  50  51  52  53  54  55  56  57  65  66  67  68  69  70  71  72\n",
      "  73  74  75  76  77  78  79  80  81  82  83  84  85  86  87  88  89  90\n",
      "  97  98 100 101 102 103 104 110 113 114 116]\n"
     ]
    }
   ],
   "source": [
    "mapping = np.loadtxt('../input/emnist-bymerge-mapping.txt',dtype=int, usecols=(1), unpack=True)\n",
    "print(mapping)"
   ]
  },
  {
   "cell_type": "code",
   "execution_count": 11,
   "metadata": {
    "_uuid": "2437a8f77cf36dbd3828fb90231119eaa7e73ce2"
   },
   "outputs": [
    {
     "name": "stdout",
     "output_type": "stream",
     "text": [
      "{0: '0', 1: '1', 2: '2', 3: '3', 4: '4', 5: '5', 6: '6', 7: '7', 8: '8', 9: '9', 10: 'A', 11: 'B', 12: 'C', 13: 'D', 14: 'E', 15: 'F', 16: 'G', 17: 'H', 18: 'I', 19: 'J', 20: 'K', 21: 'L', 22: 'M', 23: 'N', 24: 'O', 25: 'P', 26: 'Q', 27: 'R', 28: 'S', 29: 'T', 30: 'U', 31: 'V', 32: 'W', 33: 'X', 34: 'Y', 35: 'Z', 36: 'a', 37: 'b', 38: 'd', 39: 'e', 40: 'f', 41: 'g', 42: 'h', 43: 'n', 44: 'q', 45: 'r', 46: 't'}\n"
     ]
    }
   ],
   "source": [
    "char_labels={}\n",
    "for i in range(y_train.min(),y_train.max()+1):\n",
    "    char_labels[i] = chr(mapping[i])\n",
    "print(char_labels)"
   ]
  },
  {
   "cell_type": "markdown",
   "metadata": {
    "_uuid": "8b64bc3ffe906cae6564c989559296cd9f46458e"
   },
   "source": [
    "## Visualize Random 20 Training Images"
   ]
  },
  {
   "cell_type": "code",
   "execution_count": 12,
   "metadata": {
    "_uuid": "163a40b1013c009f143b33a9eaf2ea9e20c5b240"
   },
   "outputs": [
    {
     "data": {
      "image/png": "[encoded data removed]",
      "text/plain": [
       "<matplotlib.figure.Figure at 0x7fe0b0f6cbe0>"
      ]
     },
     "metadata": {},
     "output_type": "display_data"
    }
   ],
   "source": [
    "random_array = np.random.randint(x_train.shape[0], size=(2,10))\n",
    "plt.figure(figsize=[10,3])\n",
    "for i in range(10):\n",
    "    plt.subplot(2,10,i+1)\n",
    "    a = int(y_train[random_array[0,i]])\n",
    "    plt.title(char_labels[a])\n",
    "    plt.imshow(x_train[random_array[0,i]].reshape(28,28).squeeze().T, cmap='gray')\n",
    "    plt.axis('off')\n",
    "    plt.subplot(2,10,i+11)\n",
    "    b = int(y_train[random_array[1,i]])\n",
    "    plt.title(char_labels[b])\n",
    "    plt.imshow(x_train[random_array[1,i]].reshape(28,28).squeeze().T, cmap='gray')\n",
    "    plt.axis('off')"
   ]
  },
  {
   "cell_type": "markdown",
   "metadata": {
    "_uuid": "88efa680058257709ee88530d45e0722f0c593e0"
   },
   "source": [
    "# Data Preprocessing\n",
    "## Rescale the Images by Dividing Every Pixel in Every Image by 255"
   ]
  },
  {
   "cell_type": "code",
   "execution_count": 13,
   "metadata": {
    "_uuid": "e2abef8fd1db29cf142ddeab6f987faeb5184e53",
    "collapsed": true
   },
   "outputs": [],
   "source": [
    "x_train = x_train / 255.0\n",
    "x_test = x_test / 255.0"
   ]
  },
  {
   "cell_type": "markdown",
   "metadata": {
    "_uuid": "6215edfdd334bd32e384e63f75874c35e93902df"
   },
   "source": [
    "## Normalize Images"
   ]
  },
  {
   "cell_type": "code",
   "execution_count": 14,
   "metadata": {
    "_uuid": "b94322c0548314b0e4566a986ec7794492ad82fd",
    "collapsed": true
   },
   "outputs": [],
   "source": [
    "from sklearn.preprocessing import normalize\n",
    "x_train = normalize(x_train)\n",
    "x_test = normalize(x_test)"
   ]
  },
  {
   "cell_type": "markdown",
   "metadata": {
    "_uuid": "d852bfc94f4864debf02cedeb9eaef085ceb83c4"
   },
   "source": [
    "## Encode Categorical Integer Labels Using a One-Hot Scheme"
   ]
  },
  {
   "cell_type": "code",
   "execution_count": 15,
   "metadata": {
    "_uuid": "c101ee4f3dafe1efc2e4f9d22de4a6bd06e4062d"
   },
   "outputs": [
    {
     "name": "stderr",
     "output_type": "stream",
     "text": [
      "Using TensorFlow backend.\n"
     ]
    }
   ],
   "source": [
    "from keras.utils import np_utils\n",
    "\n",
    "# one-hot encode the labels\n",
    "y_train = np_utils.to_categorical(y_train, num_classes=47)\n",
    "y_test = np_utils.to_categorical(y_test, num_classes=47)"
   ]
  },
  {
   "cell_type": "code",
   "execution_count": 16,
   "metadata": {
    "_uuid": "0e3e0f500ec99134866e882d3731a9bca31af656"
   },
   "outputs": [
    {
     "data": {
      "text/plain": [
       "(697932, 47)"
      ]
     },
     "execution_count": 16,
     "metadata": {},
     "output_type": "execute_result"
    }
   ],
   "source": [
    "y_train.shape"
   ]
  },
  {
   "cell_type": "code",
   "execution_count": 17,
   "metadata": {
    "_uuid": "696a66ce72a159e6a3603bd57400e4f139703b06"
   },
   "outputs": [
    {
     "data": {
      "text/plain": [
       "array([ 0.,  0.,  0.,  0.,  0.,  0.,  0.,  0.,  0.,  0.,  0.,  0.,  0.,\n",
       "        0.,  0.,  0.,  0.,  0.,  0.,  0.,  0.,  0.,  0.,  0.,  1.,  0.,\n",
       "        0.,  0.,  0.,  0.,  0.,  0.,  0.,  0.,  0.,  0.,  0.,  0.,  0.,\n",
       "        0.,  0.,  0.,  0.,  0.,  0.,  0.,  0.], dtype=float32)"
      ]
     },
     "execution_count": 17,
     "metadata": {},
     "output_type": "execute_result"
    }
   ],
   "source": [
    "y_train[0]"
   ]
  },
  {
   "cell_type": "markdown",
   "metadata": {
    "_uuid": "9eee17497368b4f3ea7b37d2783be00bfd8532c2",
    "collapsed": true
   },
   "source": [
    "## Reshape images data from row to 32 X 32"
   ]
  },
  {
   "cell_type": "code",
   "execution_count": 18,
   "metadata": {
    "_uuid": "89f84c86d63da31f367a4d5597fb45f67a0e460d",
    "collapsed": true
   },
   "outputs": [],
   "source": [
    "x_train = x_train.reshape(-1, 28, 28, 1)\n",
    "x_test = x_test.reshape(-1, 28, 28, 1)"
   ]
  },
  {
   "cell_type": "code",
   "execution_count": 19,
   "metadata": {
    "_uuid": "8e68a3447530d1d934d129cf73e58b8fe8a7008b"
   },
   "outputs": [
    {
     "name": "stdout",
     "output_type": "stream",
     "text": [
      "(28, 28, 1)\n"
     ]
    },
    {
     "data": {
      "text/plain": [
       "array([[[ 0.        ],\n",
       "        [ 0.        ],\n",
       "        [ 0.        ],\n",
       "        [ 0.        ],\n",
       "        [ 0.        ],\n",
       "        [ 0.        ],\n",
       "        [ 0.        ],\n",
       "        [ 0.        ],\n",
       "        [ 0.        ],\n",
       "        [ 0.        ],\n",
       "        [ 0.        ],\n",
       "        [ 0.        ],\n",
       "        [ 0.        ],\n",
       "        [ 0.        ],\n",
       "        [ 0.        ],\n",
       "        [ 0.        ],\n",
       "        [ 0.        ],\n",
       "        [ 0.        ],\n",
       "        [ 0.        ],\n",
       "        [ 0.        ],\n",
       "        [ 0.        ],\n",
       "        [ 0.        ],\n",
       "        [ 0.        ],\n",
       "        [ 0.        ],\n",
       "        [ 0.        ],\n",
       "        [ 0.        ],\n",
       "        [ 0.        ],\n",
       "        [ 0.        ]],\n",
       "\n",
       "       [[ 0.        ],\n",
       "        [ 0.        ],\n",
       "        [ 0.        ],\n",
       "        [ 0.        ],\n",
       "        [ 0.        ],\n",
       "        [ 0.        ],\n",
       "        [ 0.        ],\n",
       "        [ 0.        ],\n",
       "        [ 0.        ],\n",
       "        [ 0.        ],\n",
       "        [ 0.        ],\n",
       "        [ 0.        ],\n",
       "        [ 0.        ],\n",
       "        [ 0.        ],\n",
       "        [ 0.        ],\n",
       "        [ 0.        ],\n",
       "        [ 0.        ],\n",
       "        [ 0.        ],\n",
       "        [ 0.        ],\n",
       "        [ 0.        ],\n",
       "        [ 0.        ],\n",
       "        [ 0.        ],\n",
       "        [ 0.        ],\n",
       "        [ 0.        ],\n",
       "        [ 0.        ],\n",
       "        [ 0.        ],\n",
       "        [ 0.        ],\n",
       "        [ 0.        ]],\n",
       "\n",
       "       [[ 0.        ],\n",
       "        [ 0.        ],\n",
       "        [ 0.        ],\n",
       "        [ 0.        ],\n",
       "        [ 0.        ],\n",
       "        [ 0.        ],\n",
       "        [ 0.        ],\n",
       "        [ 0.        ],\n",
       "        [ 0.        ],\n",
       "        [ 0.        ],\n",
       "        [ 0.        ],\n",
       "        [ 0.        ],\n",
       "        [ 0.        ],\n",
       "        [ 0.        ],\n",
       "        [ 0.        ],\n",
       "        [ 0.        ],\n",
       "        [ 0.        ],\n",
       "        [ 0.        ],\n",
       "        [ 0.        ],\n",
       "        [ 0.        ],\n",
       "        [ 0.        ],\n",
       "        [ 0.        ],\n",
       "        [ 0.        ],\n",
       "        [ 0.        ],\n",
       "        [ 0.        ],\n",
       "        [ 0.        ],\n",
       "        [ 0.        ],\n",
       "        [ 0.        ]],\n",
       "\n",
       "       [[ 0.        ],\n",
       "        [ 0.        ],\n",
       "        [ 0.        ],\n",
       "        [ 0.        ],\n",
       "        [ 0.        ],\n",
       "        [ 0.        ],\n",
       "        [ 0.        ],\n",
       "        [ 0.        ],\n",
       "        [ 0.        ],\n",
       "        [ 0.        ],\n",
       "        [ 0.        ],\n",
       "        [ 0.        ],\n",
       "        [ 0.        ],\n",
       "        [ 0.        ],\n",
       "        [ 0.00103169],\n",
       "        [ 0.00722182],\n",
       "        [ 0.01100468],\n",
       "        [ 0.01272416],\n",
       "        [ 0.01272416],\n",
       "        [ 0.01272416],\n",
       "        [ 0.00722182],\n",
       "        [ 0.00275117],\n",
       "        [ 0.        ],\n",
       "        [ 0.        ],\n",
       "        [ 0.        ],\n",
       "        [ 0.        ],\n",
       "        [ 0.        ],\n",
       "        [ 0.        ]],\n",
       "\n",
       "       [[ 0.        ],\n",
       "        [ 0.        ],\n",
       "        [ 0.        ],\n",
       "        [ 0.        ],\n",
       "        [ 0.        ],\n",
       "        [ 0.        ],\n",
       "        [ 0.        ],\n",
       "        [ 0.        ],\n",
       "        [ 0.        ],\n",
       "        [ 0.        ],\n",
       "        [ 0.        ],\n",
       "        [ 0.        ],\n",
       "        [ 0.        ],\n",
       "        [ 0.00240727],\n",
       "        [ 0.00756572],\n",
       "        [ 0.02785559],\n",
       "        [ 0.03920417],\n",
       "        [ 0.04367482],\n",
       "        [ 0.04367482],\n",
       "        [ 0.04298703],\n",
       "        [ 0.02785559],\n",
       "        [ 0.01581923],\n",
       "        [ 0.00240727],\n",
       "        [ 0.0003439 ],\n",
       "        [ 0.        ],\n",
       "        [ 0.        ],\n",
       "        [ 0.        ],\n",
       "        [ 0.        ]],\n",
       "\n",
       "       [[ 0.        ],\n",
       "        [ 0.        ],\n",
       "        [ 0.        ],\n",
       "        [ 0.        ],\n",
       "        [ 0.        ],\n",
       "        [ 0.        ],\n",
       "        [ 0.        ],\n",
       "        [ 0.        ],\n",
       "        [ 0.        ],\n",
       "        [ 0.        ],\n",
       "        [ 0.        ],\n",
       "        [ 0.00103169],\n",
       "        [ 0.00343896],\n",
       "        [ 0.03129456],\n",
       "        [ 0.0546795 ],\n",
       "        [ 0.07944003],\n",
       "        [ 0.08391068],\n",
       "        [ 0.08459847],\n",
       "        [ 0.08425457],\n",
       "        [ 0.08425457],\n",
       "        [ 0.07944003],\n",
       "        [ 0.07118652],\n",
       "        [ 0.03095066],\n",
       "        [ 0.01203637],\n",
       "        [ 0.0003439 ],\n",
       "        [ 0.        ],\n",
       "        [ 0.        ],\n",
       "        [ 0.        ]],\n",
       "\n",
       "       [[ 0.        ],\n",
       "        [ 0.        ],\n",
       "        [ 0.        ],\n",
       "        [ 0.        ],\n",
       "        [ 0.        ],\n",
       "        [ 0.        ],\n",
       "        [ 0.        ],\n",
       "        [ 0.        ],\n",
       "        [ 0.        ],\n",
       "        [ 0.        ],\n",
       "        [ 0.0003439 ],\n",
       "        [ 0.00756572],\n",
       "        [ 0.01616312],\n",
       "        [ 0.05605508],\n",
       "        [ 0.07496938],\n",
       "        [ 0.08597405],\n",
       "        [ 0.08459847],\n",
       "        [ 0.07634496],\n",
       "        [ 0.07462548],\n",
       "        [ 0.07600106],\n",
       "        [ 0.08391068],\n",
       "        [ 0.08322288],\n",
       "        [ 0.05605508],\n",
       "        [ 0.03095066],\n",
       "        [ 0.00240727],\n",
       "        [ 0.        ],\n",
       "        [ 0.        ],\n",
       "        [ 0.        ]],\n",
       "\n",
       "       [[ 0.        ],\n",
       "        [ 0.        ],\n",
       "        [ 0.        ],\n",
       "        [ 0.        ],\n",
       "        [ 0.        ],\n",
       "        [ 0.        ],\n",
       "        [ 0.        ],\n",
       "        [ 0.        ],\n",
       "        [ 0.        ],\n",
       "        [ 0.        ],\n",
       "        [ 0.00790961],\n",
       "        [ 0.05296002],\n",
       "        [ 0.07084262],\n",
       "        [ 0.08459847],\n",
       "        [ 0.08459847],\n",
       "        [ 0.07118652],\n",
       "        [ 0.0546795 ],\n",
       "        [ 0.0178826 ],\n",
       "        [ 0.01341195],\n",
       "        [ 0.0178826 ],\n",
       "        [ 0.05639898],\n",
       "        [ 0.07531327],\n",
       "        [ 0.08322288],\n",
       "        [ 0.07118652],\n",
       "        [ 0.01581923],\n",
       "        [ 0.        ],\n",
       "        [ 0.        ],\n",
       "        [ 0.        ]],\n",
       "\n",
       "       [[ 0.        ],\n",
       "        [ 0.        ],\n",
       "        [ 0.        ],\n",
       "        [ 0.        ],\n",
       "        [ 0.        ],\n",
       "        [ 0.        ],\n",
       "        [ 0.        ],\n",
       "        [ 0.00068779],\n",
       "        [ 0.00206338],\n",
       "        [ 0.00756572],\n",
       "        [ 0.04367482],\n",
       "        [ 0.08047172],\n",
       "        [ 0.08597405],\n",
       "        [ 0.07531327],\n",
       "        [ 0.05639898],\n",
       "        [ 0.01616312],\n",
       "        [ 0.00756572],\n",
       "        [ 0.0003439 ],\n",
       "        [ 0.        ],\n",
       "        [ 0.0003439 ],\n",
       "        [ 0.01238026],\n",
       "        [ 0.03301404],\n",
       "        [ 0.08012782],\n",
       "        [ 0.08322288],\n",
       "        [ 0.03920417],\n",
       "        [ 0.00137558],\n",
       "        [ 0.        ],\n",
       "        [ 0.        ]],\n",
       "\n",
       "       [[ 0.        ],\n",
       "        [ 0.        ],\n",
       "        [ 0.        ],\n",
       "        [ 0.        ],\n",
       "        [ 0.        ],\n",
       "        [ 0.        ],\n",
       "        [ 0.00275117],\n",
       "        [ 0.00722182],\n",
       "        [ 0.01375585],\n",
       "        [ 0.02200936],\n",
       "        [ 0.06740366],\n",
       "        [ 0.08494237],\n",
       "        [ 0.08425457],\n",
       "        [ 0.05605508],\n",
       "        [ 0.03129456],\n",
       "        [ 0.00343896],\n",
       "        [ 0.00103169],\n",
       "        [ 0.        ],\n",
       "        [ 0.        ],\n",
       "        [ 0.        ],\n",
       "        [ 0.00378286],\n",
       "        [ 0.0178826 ],\n",
       "        [ 0.07600106],\n",
       "        [ 0.08425457],\n",
       "        [ 0.04298703],\n",
       "        [ 0.00137558],\n",
       "        [ 0.        ],\n",
       "        [ 0.        ]],\n",
       "\n",
       "       [[ 0.        ],\n",
       "        [ 0.        ],\n",
       "        [ 0.        ],\n",
       "        [ 0.        ],\n",
       "        [ 0.00103169],\n",
       "        [ 0.00687792],\n",
       "        [ 0.04195534],\n",
       "        [ 0.05846236],\n",
       "        [ 0.07428158],\n",
       "        [ 0.07634496],\n",
       "        [ 0.08494237],\n",
       "        [ 0.07531327],\n",
       "        [ 0.05605508],\n",
       "        [ 0.01203637],\n",
       "        [ 0.00309507],\n",
       "        [ 0.        ],\n",
       "        [ 0.        ],\n",
       "        [ 0.        ],\n",
       "        [ 0.        ],\n",
       "        [ 0.        ],\n",
       "        [ 0.00309507],\n",
       "        [ 0.01753871],\n",
       "        [ 0.07600106],\n",
       "        [ 0.08425457],\n",
       "        [ 0.04298703],\n",
       "        [ 0.00137558],\n",
       "        [ 0.        ],\n",
       "        [ 0.        ]],\n",
       "\n",
       "       [[ 0.        ],\n",
       "        [ 0.        ],\n",
       "        [ 0.        ],\n",
       "        [ 0.        ],\n",
       "        [ 0.00343896],\n",
       "        [ 0.01616312],\n",
       "        [ 0.06671587],\n",
       "        [ 0.07909613],\n",
       "        [ 0.08563016],\n",
       "        [ 0.08597405],\n",
       "        [ 0.08459847],\n",
       "        [ 0.05639898],\n",
       "        [ 0.03129456],\n",
       "        [ 0.00309507],\n",
       "        [ 0.0003439 ],\n",
       "        [ 0.        ],\n",
       "        [ 0.        ],\n",
       "        [ 0.        ],\n",
       "        [ 0.        ],\n",
       "        [ 0.        ],\n",
       "        [ 0.00722182],\n",
       "        [ 0.02819949],\n",
       "        [ 0.07978392],\n",
       "        [ 0.08322288],\n",
       "        [ 0.03920417],\n",
       "        [ 0.00137558],\n",
       "        [ 0.        ],\n",
       "        [ 0.        ]],\n",
       "\n",
       "       [[ 0.        ],\n",
       "        [ 0.        ],\n",
       "        [ 0.        ],\n",
       "        [ 0.00103169],\n",
       "        [ 0.0271678 ],\n",
       "        [ 0.0546795 ],\n",
       "        [ 0.08494237],\n",
       "        [ 0.08734964],\n",
       "        [ 0.08734964],\n",
       "        [ 0.08734964],\n",
       "        [ 0.07634496],\n",
       "        [ 0.0178826 ],\n",
       "        [ 0.00378286],\n",
       "        [ 0.        ],\n",
       "        [ 0.        ],\n",
       "        [ 0.        ],\n",
       "        [ 0.        ],\n",
       "        [ 0.        ],\n",
       "        [ 0.        ],\n",
       "        [ 0.        ],\n",
       "        [ 0.01272416],\n",
       "        [ 0.04298703],\n",
       "        [ 0.08425457],\n",
       "        [ 0.07600106],\n",
       "        [ 0.01719481],\n",
       "        [ 0.        ],\n",
       "        [ 0.        ],\n",
       "        [ 0.        ]],\n",
       "\n",
       "       [[ 0.        ],\n",
       "        [ 0.        ],\n",
       "        [ 0.        ],\n",
       "        [ 0.00343896],\n",
       "        [ 0.04367482],\n",
       "        [ 0.07118652],\n",
       "        [ 0.08700574],\n",
       "        [ 0.08734964],\n",
       "        [ 0.08734964],\n",
       "        [ 0.08734964],\n",
       "        [ 0.07359379],\n",
       "        [ 0.01306806],\n",
       "        [ 0.00171948],\n",
       "        [ 0.        ],\n",
       "        [ 0.        ],\n",
       "        [ 0.        ],\n",
       "        [ 0.        ],\n",
       "        [ 0.        ],\n",
       "        [ 0.        ],\n",
       "        [ 0.        ],\n",
       "        [ 0.01341195],\n",
       "        [ 0.04436261],\n",
       "        [ 0.08425457],\n",
       "        [ 0.07428158],\n",
       "        [ 0.01306806],\n",
       "        [ 0.        ],\n",
       "        [ 0.        ],\n",
       "        [ 0.        ]],\n",
       "\n",
       "       [[ 0.        ],\n",
       "        [ 0.        ],\n",
       "        [ 0.00068779],\n",
       "        [ 0.02648001],\n",
       "        [ 0.07565717],\n",
       "        [ 0.08494237],\n",
       "        [ 0.08734964],\n",
       "        [ 0.08769354],\n",
       "        [ 0.08666185],\n",
       "        [ 0.08081561],\n",
       "        [ 0.04367482],\n",
       "        [ 0.00619013],\n",
       "        [ 0.00068779],\n",
       "        [ 0.        ],\n",
       "        [ 0.        ],\n",
       "        [ 0.        ],\n",
       "        [ 0.        ],\n",
       "        [ 0.        ],\n",
       "        [ 0.        ],\n",
       "        [ 0.00068779],\n",
       "        [ 0.02819949],\n",
       "        [ 0.05915015],\n",
       "        [ 0.07875223],\n",
       "        [ 0.05846236],\n",
       "        [ 0.00722182],\n",
       "        [ 0.        ],\n",
       "        [ 0.        ],\n",
       "        [ 0.        ]],\n",
       "\n",
       "       [[ 0.        ],\n",
       "        [ 0.        ],\n",
       "        [ 0.00137558],\n",
       "        [ 0.03886027],\n",
       "        [ 0.08356678],\n",
       "        [ 0.08700574],\n",
       "        [ 0.08734964],\n",
       "        [ 0.08734964],\n",
       "        [ 0.08597405],\n",
       "        [ 0.07600106],\n",
       "        [ 0.02166546],\n",
       "        [ 0.00171948],\n",
       "        [ 0.        ],\n",
       "        [ 0.        ],\n",
       "        [ 0.        ],\n",
       "        [ 0.        ],\n",
       "        [ 0.        ],\n",
       "        [ 0.        ],\n",
       "        [ 0.        ],\n",
       "        [ 0.00137558],\n",
       "        [ 0.03954807],\n",
       "        [ 0.06981093],\n",
       "        [ 0.07118652],\n",
       "        [ 0.04367482],\n",
       "        [ 0.00275117],\n",
       "        [ 0.        ],\n",
       "        [ 0.        ],\n",
       "        [ 0.        ]],\n",
       "\n",
       "       [[ 0.        ],\n",
       "        [ 0.        ],\n",
       "        [ 0.00137558],\n",
       "        [ 0.04367482],\n",
       "        [ 0.08597405],\n",
       "        [ 0.08734964],\n",
       "        [ 0.08734964],\n",
       "        [ 0.08734964],\n",
       "        [ 0.07978392],\n",
       "        [ 0.05846236],\n",
       "        [ 0.00722182],\n",
       "        [ 0.        ],\n",
       "        [ 0.        ],\n",
       "        [ 0.        ],\n",
       "        [ 0.        ],\n",
       "        [ 0.        ],\n",
       "        [ 0.        ],\n",
       "        [ 0.        ],\n",
       "        [ 0.00309507],\n",
       "        [ 0.01238026],\n",
       "        [ 0.06052573],\n",
       "        [ 0.07737665],\n",
       "        [ 0.04367482],\n",
       "        [ 0.01581923],\n",
       "        [ 0.        ],\n",
       "        [ 0.        ],\n",
       "        [ 0.        ],\n",
       "        [ 0.        ]],\n",
       "\n",
       "       [[ 0.        ],\n",
       "        [ 0.        ],\n",
       "        [ 0.00137558],\n",
       "        [ 0.04367482],\n",
       "        [ 0.08597405],\n",
       "        [ 0.08734964],\n",
       "        [ 0.08734964],\n",
       "        [ 0.08734964],\n",
       "        [ 0.07221821],\n",
       "        [ 0.04436261],\n",
       "        [ 0.00309507],\n",
       "        [ 0.        ],\n",
       "        [ 0.        ],\n",
       "        [ 0.        ],\n",
       "        [ 0.        ],\n",
       "        [ 0.        ],\n",
       "        [ 0.        ],\n",
       "        [ 0.00103169],\n",
       "        [ 0.01238026],\n",
       "        [ 0.03129456],\n",
       "        [ 0.07496938],\n",
       "        [ 0.07703275],\n",
       "        [ 0.02854339],\n",
       "        [ 0.00756572],\n",
       "        [ 0.        ],\n",
       "        [ 0.        ],\n",
       "        [ 0.        ],\n",
       "        [ 0.        ]],\n",
       "\n",
       "       [[ 0.        ],\n",
       "        [ 0.        ],\n",
       "        [ 0.00137558],\n",
       "        [ 0.03920417],\n",
       "        [ 0.08425457],\n",
       "        [ 0.08700574],\n",
       "        [ 0.08734964],\n",
       "        [ 0.08700574],\n",
       "        [ 0.06534028],\n",
       "        [ 0.03748469],\n",
       "        [ 0.00378286],\n",
       "        [ 0.00068779],\n",
       "        [ 0.0003439 ],\n",
       "        [ 0.00137558],\n",
       "        [ 0.00137558],\n",
       "        [ 0.00309507],\n",
       "        [ 0.00756572],\n",
       "        [ 0.02854339],\n",
       "        [ 0.06018184],\n",
       "        [ 0.07565717],\n",
       "        [ 0.07909613],\n",
       "        [ 0.05880625],\n",
       "        [ 0.00756572],\n",
       "        [ 0.00103169],\n",
       "        [ 0.        ],\n",
       "        [ 0.        ],\n",
       "        [ 0.        ],\n",
       "        [ 0.        ]],\n",
       "\n",
       "       [[ 0.        ],\n",
       "        [ 0.        ],\n",
       "        [ 0.00068779],\n",
       "        [ 0.02785559],\n",
       "        [ 0.07875223],\n",
       "        [ 0.08528626],\n",
       "        [ 0.08734964],\n",
       "        [ 0.08734964],\n",
       "        [ 0.07634496],\n",
       "        [ 0.05708677],\n",
       "        [ 0.0178826 ],\n",
       "        [ 0.00722182],\n",
       "        [ 0.00481455],\n",
       "        [ 0.01100468],\n",
       "        [ 0.01272416],\n",
       "        [ 0.01753871],\n",
       "        [ 0.02888728],\n",
       "        [ 0.05880625],\n",
       "        [ 0.07978392],\n",
       "        [ 0.08391068],\n",
       "        [ 0.07084262],\n",
       "        [ 0.04333092],\n",
       "        [ 0.00275117],\n",
       "        [ 0.        ],\n",
       "        [ 0.        ],\n",
       "        [ 0.        ],\n",
       "        [ 0.        ],\n",
       "        [ 0.        ]],\n",
       "\n",
       "       [[ 0.        ],\n",
       "        [ 0.        ],\n",
       "        [ 0.        ],\n",
       "        [ 0.00687792],\n",
       "        [ 0.03782858],\n",
       "        [ 0.04780157],\n",
       "        [ 0.07634496],\n",
       "        [ 0.08494237],\n",
       "        [ 0.08700574],\n",
       "        [ 0.08494237],\n",
       "        [ 0.07565717],\n",
       "        [ 0.05949405],\n",
       "        [ 0.05261612],\n",
       "        [ 0.07015483],\n",
       "        [ 0.07393769],\n",
       "        [ 0.07634496],\n",
       "        [ 0.08012782],\n",
       "        [ 0.08597405],\n",
       "        [ 0.07565717],\n",
       "        [ 0.06018184],\n",
       "        [ 0.02682391],\n",
       "        [ 0.01100468],\n",
       "        [ 0.        ],\n",
       "        [ 0.        ],\n",
       "        [ 0.        ],\n",
       "        [ 0.        ],\n",
       "        [ 0.        ],\n",
       "        [ 0.        ]],\n",
       "\n",
       "       [[ 0.        ],\n",
       "        [ 0.        ],\n",
       "        [ 0.        ],\n",
       "        [ 0.        ],\n",
       "        [ 0.00137558],\n",
       "        [ 0.00447065],\n",
       "        [ 0.04642599],\n",
       "        [ 0.06981093],\n",
       "        [ 0.07462548],\n",
       "        [ 0.07462548],\n",
       "        [ 0.07462548],\n",
       "        [ 0.07531327],\n",
       "        [ 0.07909613],\n",
       "        [ 0.08528626],\n",
       "        [ 0.08563016],\n",
       "        [ 0.08012782],\n",
       "        [ 0.07600106],\n",
       "        [ 0.06946704],\n",
       "        [ 0.03129456],\n",
       "        [ 0.01238026],\n",
       "        [ 0.00103169],\n",
       "        [ 0.        ],\n",
       "        [ 0.        ],\n",
       "        [ 0.        ],\n",
       "        [ 0.        ],\n",
       "        [ 0.        ],\n",
       "        [ 0.        ],\n",
       "        [ 0.        ]],\n",
       "\n",
       "       [[ 0.        ],\n",
       "        [ 0.        ],\n",
       "        [ 0.        ],\n",
       "        [ 0.        ],\n",
       "        [ 0.        ],\n",
       "        [ 0.00171948],\n",
       "        [ 0.03782858],\n",
       "        [ 0.05296002],\n",
       "        [ 0.04436261],\n",
       "        [ 0.04367482],\n",
       "        [ 0.04367482],\n",
       "        [ 0.04814547],\n",
       "        [ 0.05915015],\n",
       "        [ 0.07393769],\n",
       "        [ 0.07393769],\n",
       "        [ 0.05915015],\n",
       "        [ 0.04814547],\n",
       "        [ 0.03886027],\n",
       "        [ 0.01134858],\n",
       "        [ 0.00275117],\n",
       "        [ 0.        ],\n",
       "        [ 0.        ],\n",
       "        [ 0.        ],\n",
       "        [ 0.        ],\n",
       "        [ 0.        ],\n",
       "        [ 0.        ],\n",
       "        [ 0.        ],\n",
       "        [ 0.        ]],\n",
       "\n",
       "       [[ 0.        ],\n",
       "        [ 0.        ],\n",
       "        [ 0.        ],\n",
       "        [ 0.        ],\n",
       "        [ 0.        ],\n",
       "        [ 0.00103169],\n",
       "        [ 0.02648001],\n",
       "        [ 0.02682391],\n",
       "        [ 0.00275117],\n",
       "        [ 0.00137558],\n",
       "        [ 0.00137558],\n",
       "        [ 0.00309507],\n",
       "        [ 0.00722182],\n",
       "        [ 0.01272416],\n",
       "        [ 0.01272416],\n",
       "        [ 0.00722182],\n",
       "        [ 0.00309507],\n",
       "        [ 0.00137558],\n",
       "        [ 0.        ],\n",
       "        [ 0.        ],\n",
       "        [ 0.        ],\n",
       "        [ 0.        ],\n",
       "        [ 0.        ],\n",
       "        [ 0.        ],\n",
       "        [ 0.        ],\n",
       "        [ 0.        ],\n",
       "        [ 0.        ],\n",
       "        [ 0.        ]],\n",
       "\n",
       "       [[ 0.        ],\n",
       "        [ 0.        ],\n",
       "        [ 0.        ],\n",
       "        [ 0.        ],\n",
       "        [ 0.        ],\n",
       "        [ 0.00068779],\n",
       "        [ 0.01513143],\n",
       "        [ 0.01547533],\n",
       "        [ 0.00068779],\n",
       "        [ 0.        ],\n",
       "        [ 0.        ],\n",
       "        [ 0.        ],\n",
       "        [ 0.00068779],\n",
       "        [ 0.00137558],\n",
       "        [ 0.00137558],\n",
       "        [ 0.00068779],\n",
       "        [ 0.        ],\n",
       "        [ 0.        ],\n",
       "        [ 0.        ],\n",
       "        [ 0.        ],\n",
       "        [ 0.        ],\n",
       "        [ 0.        ],\n",
       "        [ 0.        ],\n",
       "        [ 0.        ],\n",
       "        [ 0.        ],\n",
       "        [ 0.        ],\n",
       "        [ 0.        ],\n",
       "        [ 0.        ]],\n",
       "\n",
       "       [[ 0.        ],\n",
       "        [ 0.        ],\n",
       "        [ 0.        ],\n",
       "        [ 0.        ],\n",
       "        [ 0.        ],\n",
       "        [ 0.        ],\n",
       "        [ 0.0003439 ],\n",
       "        [ 0.0003439 ],\n",
       "        [ 0.        ],\n",
       "        [ 0.        ],\n",
       "        [ 0.        ],\n",
       "        [ 0.        ],\n",
       "        [ 0.        ],\n",
       "        [ 0.        ],\n",
       "        [ 0.        ],\n",
       "        [ 0.        ],\n",
       "        [ 0.        ],\n",
       "        [ 0.        ],\n",
       "        [ 0.        ],\n",
       "        [ 0.        ],\n",
       "        [ 0.        ],\n",
       "        [ 0.        ],\n",
       "        [ 0.        ],\n",
       "        [ 0.        ],\n",
       "        [ 0.        ],\n",
       "        [ 0.        ],\n",
       "        [ 0.        ],\n",
       "        [ 0.        ]],\n",
       "\n",
       "       [[ 0.        ],\n",
       "        [ 0.        ],\n",
       "        [ 0.        ],\n",
       "        [ 0.        ],\n",
       "        [ 0.        ],\n",
       "        [ 0.        ],\n",
       "        [ 0.        ],\n",
       "        [ 0.        ],\n",
       "        [ 0.        ],\n",
       "        [ 0.        ],\n",
       "        [ 0.        ],\n",
       "        [ 0.        ],\n",
       "        [ 0.        ],\n",
       "        [ 0.        ],\n",
       "        [ 0.        ],\n",
       "        [ 0.        ],\n",
       "        [ 0.        ],\n",
       "        [ 0.        ],\n",
       "        [ 0.        ],\n",
       "        [ 0.        ],\n",
       "        [ 0.        ],\n",
       "        [ 0.        ],\n",
       "        [ 0.        ],\n",
       "        [ 0.        ],\n",
       "        [ 0.        ],\n",
       "        [ 0.        ],\n",
       "        [ 0.        ],\n",
       "        [ 0.        ]],\n",
       "\n",
       "       [[ 0.        ],\n",
       "        [ 0.        ],\n",
       "        [ 0.        ],\n",
       "        [ 0.        ],\n",
       "        [ 0.        ],\n",
       "        [ 0.        ],\n",
       "        [ 0.        ],\n",
       "        [ 0.        ],\n",
       "        [ 0.        ],\n",
       "        [ 0.        ],\n",
       "        [ 0.        ],\n",
       "        [ 0.        ],\n",
       "        [ 0.        ],\n",
       "        [ 0.        ],\n",
       "        [ 0.        ],\n",
       "        [ 0.        ],\n",
       "        [ 0.        ],\n",
       "        [ 0.        ],\n",
       "        [ 0.        ],\n",
       "        [ 0.        ],\n",
       "        [ 0.        ],\n",
       "        [ 0.        ],\n",
       "        [ 0.        ],\n",
       "        [ 0.        ],\n",
       "        [ 0.        ],\n",
       "        [ 0.        ],\n",
       "        [ 0.        ],\n",
       "        [ 0.        ]]])"
      ]
     },
     "execution_count": 19,
     "metadata": {},
     "output_type": "execute_result"
    }
   ],
   "source": [
    "print(x_train[0].shape)\n",
    "x_train[0]"
   ]
  },
  {
   "cell_type": "markdown",
   "metadata": {
    "_uuid": "92dae87b7cdb9684783fd226b0ef3b5bb925ab8f"
   },
   "source": [
    "# CNN Model"
   ]
  },
  {
   "cell_type": "markdown",
   "metadata": {
    "_uuid": "79b34a05352d674ca295deeb818847e33688c3fd",
    "collapsed": true
   },
   "source": [
    "## Define the Model Architecture"
   ]
  },
  {
   "cell_type": "code",
   "execution_count": 20,
   "metadata": {
    "_uuid": "809086d50b8a8cc95551d9cb52b9e9bd25f63718"
   },
   "outputs": [
    {
     "name": "stdout",
     "output_type": "stream",
     "text": [
      "_________________________________________________________________\n",
      "Layer (type)                 Output Shape              Param #   \n",
      "=================================================================\n",
      "conv2d_1 (Conv2D)            (None, 26, 26, 64)        640       \n",
      "_________________________________________________________________\n",
      "max_pooling2d_1 (MaxPooling2 (None, 13, 13, 64)        0         \n",
      "_________________________________________________________________\n",
      "dropout_1 (Dropout)          (None, 13, 13, 64)        0         \n",
      "_________________________________________________________________\n",
      "conv2d_2 (Conv2D)            (None, 11, 11, 32)        18464     \n",
      "_________________________________________________________________\n",
      "max_pooling2d_2 (MaxPooling2 (None, 5, 5, 32)          0         \n",
      "_________________________________________________________________\n",
      "flatten_1 (Flatten)          (None, 800)               0         \n",
      "_________________________________________________________________\n",
      "dense_1 (Dense)              (None, 128)               102528    \n",
      "_________________________________________________________________\n",
      "dropout_2 (Dropout)          (None, 128)               0         \n",
      "_________________________________________________________________\n",
      "batch_normalization_1 (Batch (None, 128)               512       \n",
      "_________________________________________________________________\n",
      "dense_2 (Dense)              (None, 64)                8256      \n",
      "_________________________________________________________________\n",
      "dropout_3 (Dropout)          (None, 64)                0         \n",
      "_________________________________________________________________\n",
      "dense_3 (Dense)              (None, 47)                3055      \n",
      "=================================================================\n",
      "Total params: 133,455\n",
      "Trainable params: 133,199\n",
      "Non-trainable params: 256\n",
      "_________________________________________________________________\n"
     ]
    }
   ],
   "source": [
    "from keras.models import Sequential\n",
    "from keras.layers import Dense, Dropout, Flatten\n",
    "from keras.layers import BatchNormalization\n",
    "from keras.layers import Conv2D, MaxPooling2D\n",
    "\n",
    "# define the model\n",
    "cnn_model = Sequential()\n",
    "cnn_model.add(Conv2D(filters=64, kernel_size=3, padding='valid', activation='relu', input_shape=(28, 28, 1)))\n",
    "cnn_model.add(MaxPooling2D(pool_size=2))\n",
    "#cnn_model.add(BatchNormalization())\n",
    "cnn_model.add(Dropout(0.3))\n",
    "cnn_model.add(Conv2D(filters=32, kernel_size=3, padding='valid', activation='relu',))\n",
    "cnn_model.add(MaxPooling2D(pool_size=2))\n",
    "#cnn_model.add(BatchNormalization())\n",
    "#cnn_model.add(Dropout(0.3))\n",
    "cnn_model.add(Flatten())\n",
    "cnn_model.add(Dense(128, activation='relu'))\n",
    "cnn_model.add(Dropout(0.2))\n",
    "cnn_model.add(BatchNormalization())\n",
    "cnn_model.add(Dense(64, activation='relu'))\n",
    "cnn_model.add(Dropout(0.2))\n",
    "cnn_model.add(Dense(47, activation='softmax'))\n",
    "\n",
    "# summarize the model\n",
    "cnn_model.summary()"
   ]
  },
  {
   "cell_type": "markdown",
   "metadata": {
    "_uuid": "2f1af42a62d6bcf2076264ae03f9b087f7d5da0b"
   },
   "source": [
    "## Compile the Model"
   ]
  },
  {
   "cell_type": "code",
   "execution_count": 21,
   "metadata": {
    "_uuid": "c9365101820ef8a94259b0aa7b009f0c9034bb83",
    "collapsed": true
   },
   "outputs": [],
   "source": [
    "# compile the model\n",
    "cnn_model.compile(loss='categorical_crossentropy', optimizer='Nadam', metrics=['accuracy'])"
   ]
  },
  {
   "cell_type": "markdown",
   "metadata": {
    "_uuid": "3a0252cf42820da5d3edf9ab6483175ec977f1e0"
   },
   "source": [
    "## Train the Model"
   ]
  },
  {
   "cell_type": "code",
   "execution_count": 22,
   "metadata": {
    "_uuid": "d4d98f887547e3aa85d97f8e5d98ddcdd0f0a7ef"
   },
   "outputs": [
    {
     "name": "stdout",
     "output_type": "stream",
     "text": [
      "Train on 558345 samples, validate on 139587 samples\n",
      "Epoch 1/3\n",
      "558345/558345 [==============================] - 983s 2ms/step - loss: 0.5513 - acc: 0.8210 - val_loss: 0.4026 - val_acc: 0.8636\n",
      "\n",
      "Epoch 00001: val_loss improved from inf to 0.40262, saving model to EMNIST_CNN.cnn_model.best.hdf5\n",
      "Epoch 2/3\n",
      "558345/558345 [==============================] - 982s 2ms/step - loss: 0.3945 - acc: 0.8647 - val_loss: 0.3509 - val_acc: 0.8737\n",
      "\n",
      "Epoch 00002: val_loss improved from 0.40262 to 0.35088, saving model to EMNIST_CNN.cnn_model.best.hdf5\n",
      "Epoch 3/3\n",
      "558345/558345 [==============================] - 994s 2ms/step - loss: 0.3683 - acc: 0.8722 - val_loss: 0.3002 - val_acc: 0.8912\n",
      "\n",
      "Epoch 00003: val_loss improved from 0.35088 to 0.30023, saving model to EMNIST_CNN.cnn_model.best.hdf5\n"
     ]
    }
   ],
   "source": [
    "from keras.callbacks import ModelCheckpoint, EarlyStopping\n",
    "\n",
    "# train the model\n",
    "checkpointer = ModelCheckpoint(filepath='EMNIST_CNN.cnn_model.best.hdf5',\n",
    "                               verbose=1, save_best_only=True)\n",
    "earlystopper = EarlyStopping(patience=3, verbose=1)\n",
    "hist = cnn_model.fit(x_train, y_train, batch_size=128, epochs=3, \n",
    "                     validation_split=0.2, callbacks=[checkpointer, earlystopper], verbose=1, shuffle=True)"
   ]
  },
  {
   "cell_type": "code",
   "execution_count": 23,
   "metadata": {
    "_uuid": "f957e2cb60121316415c007293b449ac3ab795c7",
    "collapsed": true
   },
   "outputs": [],
   "source": [
    "# load the weights that yielded the best validation accuracy\n",
    "cnn_model.load_weights('EMNIST_CNN.cnn_model.best.hdf5')"
   ]
  },
  {
   "cell_type": "code",
   "execution_count": 24,
   "metadata": {
    "_uuid": "108d4e3634fd1ab2e8729ea6cb0d878c524a43c3"
   },
   "outputs": [
    {
     "name": "stdout",
     "output_type": "stream",
     "text": [
      "Test accuracy: 89.0761%\n"
     ]
    }
   ],
   "source": [
    "# evaluate test accuracy\n",
    "score = cnn_model.evaluate(x_test, y_test, verbose=0)\n",
    "accuracy = 100*score[1]\n",
    "# print test accuracy\n",
    "print('Test accuracy: %.4f%%' % accuracy)"
   ]
  },
  {
   "cell_type": "code",
   "execution_count": null,
   "metadata": {
    "_uuid": "d5b84b034142832a730da3ad6be4835c79ba04bf",
    "collapsed": true
   },
   "outputs": [],
   "source": []
  }
 ],
 "metadata": {
  "kernelspec": {
   "display_name": "Python 3",
   "language": "python",
   "name": "python3"
  },
  "language_info": {
   "codemirror_mode": {
    "name": "ipython",
    "version": 3
   },
   "file_extension": ".py",
   "mimetype": "text/x-python",
   "name": "python",
   "nbconvert_exporter": "python",
   "pygments_lexer": "ipython3",
   "version": "3.5.2"
  }
 },
 "nbformat": 4,
 "nbformat_minor": 1
}
